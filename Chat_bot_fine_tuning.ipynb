{
  "nbformat": 4,
  "nbformat_minor": 0,
  "metadata": {
    "colab": {
      "provenance": [],
      "mount_file_id": "1G2ZgRsseOZJ2l7nkbBdNsv-2Cj94xjYw",
      "authorship_tag": "ABX9TyMGRvlPvOFAWNpMDT8SdMGv",
      "include_colab_link": true
    },
    "kernelspec": {
      "name": "python3",
      "display_name": "Python 3"
    },
    "language_info": {
      "name": "python"
    }
  },
  "cells": [
    {
      "cell_type": "markdown",
      "metadata": {
        "id": "view-in-github",
        "colab_type": "text"
      },
      "source": [
        "<a href=\"https://colab.research.google.com/github/PatrykCiwinski/Chatbot_Openai_fine-tuning/blob/main/Chat_bot_fine_tuning.ipynb\" target=\"_parent\"><img src=\"https://colab.research.google.com/assets/colab-badge.svg\" alt=\"Open In Colab\"/></a>"
      ]
    },
    {
      "cell_type": "code",
      "source": [
        "# !pip install openai"
      ],
      "metadata": {
        "id": "NjUGFpqp2LNB"
      },
      "execution_count": null,
      "outputs": []
    },
    {
      "cell_type": "code",
      "execution_count": null,
      "metadata": {
        "id": "4NnRA5s918O5"
      },
      "outputs": [],
      "source": [
        "import openai"
      ]
    },
    {
      "cell_type": "code",
      "source": [
        "import pandas as pd"
      ],
      "metadata": {
        "id": "GVztKmLt2GuV"
      },
      "execution_count": null,
      "outputs": []
    },
    {
      "cell_type": "markdown",
      "source": [
        "##Data preparation"
      ],
      "metadata": {
        "id": "MVLSBcO1BcS6"
      }
    },
    {
      "cell_type": "code",
      "source": [
        "!gdown 1-DECEK4s0YfWRZFedqtrDrpBHM9v1fWL"
      ],
      "metadata": {
        "colab": {
          "base_uri": "https://localhost:8080/"
        },
        "id": "QKfWMh9Z9YES",
        "outputId": "c839969b-f1f7-4a56-e05e-f16ebae2f743"
      },
      "execution_count": null,
      "outputs": [
        {
          "output_type": "stream",
          "name": "stdout",
          "text": [
            "Downloading...\n",
            "From: https://drive.google.com/uc?id=1-DECEK4s0YfWRZFedqtrDrpBHM9v1fWL\n",
            "To: /content/S08_question_answer_pairs.txt\n",
            "\r  0% 0.00/181k [00:00<?, ?B/s]\r100% 181k/181k [00:00<00:00, 60.3MB/s]\n"
          ]
        }
      ]
    },
    {
      "cell_type": "code",
      "source": [
        "!gdown 1-8yVYGWUZ0hpl2WDPDS9_QOMYc6HodUV"
      ],
      "metadata": {
        "colab": {
          "base_uri": "https://localhost:8080/"
        },
        "id": "pfWgCPCA98Pq",
        "outputId": "fda9ca14-ebb6-4ceb-99a4-6e990952a0e0"
      },
      "execution_count": null,
      "outputs": [
        {
          "output_type": "stream",
          "name": "stdout",
          "text": [
            "Downloading...\n",
            "From: https://drive.google.com/uc?id=1-8yVYGWUZ0hpl2WDPDS9_QOMYc6HodUV\n",
            "To: /content/S09_question_answer_pairs.txt\n",
            "\r  0% 0.00/85.4k [00:00<?, ?B/s]\r100% 85.4k/85.4k [00:00<00:00, 71.0MB/s]\n"
          ]
        }
      ]
    },
    {
      "cell_type": "code",
      "source": [
        "!gdown 1-Ern21Bo8NXLOlBzDIRdp-VCyyeMA3Vi"
      ],
      "metadata": {
        "colab": {
          "base_uri": "https://localhost:8080/"
        },
        "id": "kIalCCgV-KTx",
        "outputId": "562dce40-d829-47e6-846a-5ef12e7f0557"
      },
      "execution_count": null,
      "outputs": [
        {
          "output_type": "stream",
          "name": "stdout",
          "text": [
            "Downloading...\n",
            "From: https://drive.google.com/uc?id=1-Ern21Bo8NXLOlBzDIRdp-VCyyeMA3Vi\n",
            "To: /content/S10_question_answer_pairs.txt\n",
            "\r  0% 0.00/166k [00:00<?, ?B/s]\r100% 166k/166k [00:00<00:00, 37.9MB/s]\n"
          ]
        }
      ]
    },
    {
      "cell_type": "code",
      "source": [
        "df_tmp1 = pd.read_csv('/content/S08_question_answer_pairs.txt', encoding='latin1', sep='\\t').drop_duplicates(subset=\"Question\")"
      ],
      "metadata": {
        "id": "xCmWZY9O2wMg"
      },
      "execution_count": null,
      "outputs": []
    },
    {
      "cell_type": "code",
      "source": [
        "df_tmp2 =pd.read_csv('/content/S09_question_answer_pairs.txt', encoding='latin1', sep='\\t').drop_duplicates(subset=\"Question\")"
      ],
      "metadata": {
        "id": "ntOQ7TKB3eiI"
      },
      "execution_count": null,
      "outputs": []
    },
    {
      "cell_type": "code",
      "source": [
        "df_tmp3 =pd.read_csv('/content/S10_question_answer_pairs.txt', encoding='latin1', sep='\\t').drop_duplicates(subset=\"Question\")"
      ],
      "metadata": {
        "id": "IRh93O-y3f2k"
      },
      "execution_count": null,
      "outputs": []
    },
    {
      "cell_type": "code",
      "source": [
        "df=pd.DataFrame()"
      ],
      "metadata": {
        "id": "zqQQT9Hd4c0v"
      },
      "execution_count": null,
      "outputs": []
    },
    {
      "cell_type": "code",
      "source": [
        "df=pd.concat([df,df_tmp1,df,df_tmp3])"
      ],
      "metadata": {
        "id": "-kJew2fi4IWj"
      },
      "execution_count": null,
      "outputs": []
    },
    {
      "cell_type": "code",
      "source": [
        "df.drop([\t'ï»¿ArticleTitle','ArticleTitle','DifficultyFromQuestioner','DifficultyFromAnswerer','ArticleFile'],axis=1,inplace=True)"
      ],
      "metadata": {
        "id": "_uEQitEn4Xr3"
      },
      "execution_count": null,
      "outputs": []
    },
    {
      "cell_type": "code",
      "source": [
        "df.dropna(inplace=True)"
      ],
      "metadata": {
        "id": "8RzTCghw5Hqt"
      },
      "execution_count": null,
      "outputs": []
    },
    {
      "cell_type": "code",
      "source": [
        "questions,answers=df['Question'],df['Answer']"
      ],
      "metadata": {
        "id": "S4pwPCqL5LQo"
      },
      "execution_count": null,
      "outputs": []
    },
    {
      "cell_type": "code",
      "source": [
        "json_format_openai=[{'prompt':q,'completion':a} for q,a in zip(questions,answers)]"
      ],
      "metadata": {
        "id": "kGPs-5Si7iNM"
      },
      "execution_count": null,
      "outputs": []
    },
    {
      "cell_type": "code",
      "source": [
        "import json"
      ],
      "metadata": {
        "id": "xvHnQk5pG8xy"
      },
      "execution_count": null,
      "outputs": []
    },
    {
      "cell_type": "code",
      "source": [
        "json_format_openai[7]['prompt']"
      ],
      "metadata": {
        "colab": {
          "base_uri": "https://localhost:8080/",
          "height": 36
        },
        "id": "F4vyF0Ld7kAA",
        "outputId": "89a90e25-52e4-4239-bd93-afb9841e79d1"
      },
      "execution_count": null,
      "outputs": [
        {
          "output_type": "execute_result",
          "data": {
            "text/plain": [
              "'When did the Gettysburg address argue that America was born?'"
            ],
            "application/vnd.google.colaboratory.intrinsic+json": {
              "type": "string"
            }
          },
          "metadata": {},
          "execution_count": 112
        }
      ]
    },
    {
      "cell_type": "code",
      "source": [
        "json_format_openai[7]['completion']"
      ],
      "metadata": {
        "colab": {
          "base_uri": "https://localhost:8080/",
          "height": 36
        },
        "id": "rMuyrgpZETZT",
        "outputId": "8e009464-5eb7-45e6-af7a-1b40ef2d08f3"
      },
      "execution_count": null,
      "outputs": [
        {
          "output_type": "execute_result",
          "data": {
            "text/plain": [
              "'1776'"
            ],
            "application/vnd.google.colaboratory.intrinsic+json": {
              "type": "string"
            }
          },
          "metadata": {},
          "execution_count": 113
        }
      ]
    },
    {
      "cell_type": "markdown",
      "source": [
        "###We need it to be .json"
      ],
      "metadata": {
        "id": "RNXhYQUfRno8"
      }
    },
    {
      "cell_type": "code",
      "source": [
        "JSON_file = '/content/qa_training_data.json'"
      ],
      "metadata": {
        "id": "uNobjnXuRz9r"
      },
      "execution_count": null,
      "outputs": []
    },
    {
      "cell_type": "code",
      "source": [
        "with open('qa_training_data.json', 'w') as outfile:\n",
        "    for entry in json_format_openai:\n",
        "        outfile.write(json.dumps(entry))\n",
        "        outfile.write('\\n')"
      ],
      "metadata": {
        "id": "bz8FuU1bRuZa"
      },
      "execution_count": null,
      "outputs": []
    },
    {
      "cell_type": "markdown",
      "source": [
        "##API"
      ],
      "metadata": {
        "id": "KSSNh9S5Bh_s"
      }
    },
    {
      "cell_type": "code",
      "source": [
        "openai.api_key = '********'"
      ],
      "metadata": {
        "id": "yAxfWbpqBoWA"
      },
      "execution_count": null,
      "outputs": []
    },
    {
      "cell_type": "markdown",
      "source": [
        "##We use older model, thus is cheaper,and we want to provide our own data"
      ],
      "metadata": {
        "id": "pRZfcifYAREb"
      }
    },
    {
      "cell_type": "code",
      "source": [
        "response = openai.Completion.create(\n",
        "    model='text-ada-001',\n",
        "    prompt=json_format_openai[7]['prompt'],max_tokens=250,temperature=0\n",
        ")"
      ],
      "metadata": {
        "id": "SkYRgLS68Gr_"
      },
      "execution_count": null,
      "outputs": []
    },
    {
      "cell_type": "markdown",
      "source": [
        "##According to provided data the answer should be different. Model might be hallucinating"
      ],
      "metadata": {
        "id": "WiwdB1NnEbVu"
      }
    },
    {
      "cell_type": "code",
      "source": [
        "print(response['choices'][0]['text'])"
      ],
      "metadata": {
        "id": "AZNURA0ACmWL",
        "colab": {
          "base_uri": "https://localhost:8080/"
        },
        "outputId": "4972abdd-ef65-41c7-c8a5-9d850a1afa27"
      },
      "execution_count": null,
      "outputs": [
        {
          "output_type": "stream",
          "name": "stdout",
          "text": [
            "\n",
            "\n",
            "The Gettysburg address, or the speech in support of the American Revolution, argued that America was founded on the right of all people to take it on or leave it.\n"
          ]
        }
      ]
    },
    {
      "cell_type": "markdown",
      "source": [
        "##We perform fine-tuning proces to impove outputs of the model. The whole process is very cheap, thus we use older openai model. It costs only Fine-tune costs $0.05"
      ],
      "metadata": {
        "id": "hc1URfLgq2Ph"
      }
    },
    {
      "cell_type": "code",
      "source": [
        "response = openai.Completion.create(\n",
        "    model='ada:ft-personal-2023-07-25-15-53-09',\n",
        "    prompt=json_format_openai[7]['prompt'],max_tokens=250,temperature=0\n",
        ")"
      ],
      "metadata": {
        "id": "YJc-R6lFUrbY"
      },
      "execution_count": null,
      "outputs": []
    },
    {
      "cell_type": "markdown",
      "source": [
        "##We can see improvement in answers"
      ],
      "metadata": {
        "id": "YT-6FvkSxo17"
      }
    },
    {
      "cell_type": "code",
      "source": [
        "print(response['choices'][0]['text'])"
      ],
      "metadata": {
        "colab": {
          "base_uri": "https://localhost:8080/"
        },
        "id": "2IX0AtyFxkHa",
        "outputId": "186ccc83-064a-4035-af5c-b9d9b4d43dbc"
      },
      "execution_count": null,
      "outputs": [
        {
          "output_type": "stream",
          "name": "stdout",
          "text": [
            "1776.                                                                                                                                                                                                                                                       \n"
          ]
        }
      ]
    },
    {
      "cell_type": "code",
      "source": [],
      "metadata": {
        "id": "PoifXTEDxm3k"
      },
      "execution_count": null,
      "outputs": []
    }
  ]
}